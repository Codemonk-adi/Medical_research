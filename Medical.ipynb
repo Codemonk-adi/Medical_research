{
 "cells": [
  {
   "cell_type": "code",
   "execution_count": 171,
   "metadata": {},
   "outputs": [],
   "source": [
    "import pandas as pd\n",
    "import numpy as np\n",
    "from factor_analyzer import FactorAnalyzer\n",
    "# import nilearn\""
   ]
  },
  {
   "cell_type": "code",
   "execution_count": 172,
   "metadata": {},
   "outputs": [
    {
     "data": {
      "text/plain": [
       "(585, 1)"
      ]
     },
     "execution_count": 172,
     "metadata": {},
     "output_type": "execute_result"
    }
   ],
   "source": [
    "data = pd.read_csv('noraml_results.csv',low_memory=False)\n",
    "data = data.set_index(['SubjectID'])\n",
    "y = pd.read_csv('train_labels_MGMT.csv')\n",
    "y = y.set_index(['BraTS21ID'])\n",
    "\n",
    "# ids = data['SubjectID']\n",
    "y.shape"
   ]
  },
  {
   "cell_type": "code",
   "execution_count": 173,
   "metadata": {},
   "outputs": [
    {
     "name": "stdout",
     "output_type": "stream",
     "text": [
      "<class 'pandas.core.frame.DataFrame'>\n",
      "Int64Index: 1208 entries, 0 to 1666\n",
      "Columns: 545 entries, FLAIR_ED_Intensity_CoefficientOfVariation to T2_ED_LBP_Radius-1_Bins-20_LBP\n",
      "dtypes: float64(334), int64(135), object(76)\n",
      "memory usage: 5.0+ MB\n"
     ]
    }
   ],
   "source": [
    "# data = data.drop(['SubjectID'],axis=1)\n",
    "data.info()"
   ]
  },
  {
   "cell_type": "code",
   "execution_count": null,
   "metadata": {},
   "outputs": [],
   "source": []
  },
  {
   "cell_type": "code",
   "execution_count": 174,
   "metadata": {},
   "outputs": [
    {
     "data": {
      "text/html": [
       "<div>\n",
       "<style scoped>\n",
       "    .dataframe tbody tr th:only-of-type {\n",
       "        vertical-align: middle;\n",
       "    }\n",
       "\n",
       "    .dataframe tbody tr th {\n",
       "        vertical-align: top;\n",
       "    }\n",
       "\n",
       "    .dataframe thead th {\n",
       "        text-align: right;\n",
       "    }\n",
       "</style>\n",
       "<table border=\"1\" class=\"dataframe\">\n",
       "  <thead>\n",
       "    <tr style=\"text-align: right;\">\n",
       "      <th></th>\n",
       "      <th>FLAIR_ED_Intensity_CoefficientOfVariation</th>\n",
       "      <th>FLAIR_ED_Intensity_Energy</th>\n",
       "      <th>FLAIR_ED_Intensity_InterQuartileRange</th>\n",
       "      <th>FLAIR_ED_Intensity_Kurtosis</th>\n",
       "      <th>FLAIR_ED_Intensity_Maximum</th>\n",
       "      <th>FLAIR_ED_Intensity_Mean</th>\n",
       "      <th>FLAIR_ED_Intensity_MeanAbsoluteDeviation</th>\n",
       "      <th>FLAIR_ED_Intensity_Median</th>\n",
       "      <th>FLAIR_ED_Intensity_MedianAbsoluteDeviation</th>\n",
       "      <th>FLAIR_ED_Intensity_Minimum</th>\n",
       "      <th>...</th>\n",
       "      <th>T2_ED_GLSZM_Bins-20_Radius-1_ZoneSizeMean</th>\n",
       "      <th>T2_ED_GLSZM_Bins-20_Radius-1_ZoneSizeNonUniformity</th>\n",
       "      <th>T2_ED_GLSZM_Bins-20_Radius-1_ZoneSizeNoneUniformityNormalized</th>\n",
       "      <th>T2_ED_GLSZM_Bins-20_Radius-1_ZoneSizeVariance</th>\n",
       "      <th>T2_ED_NGTDM_Busyness</th>\n",
       "      <th>T2_ED_NGTDM_Coarsness</th>\n",
       "      <th>T2_ED_NGTDM_Complexity</th>\n",
       "      <th>T2_ED_NGTDM_Contrast</th>\n",
       "      <th>T2_ED_NGTDM_Strength</th>\n",
       "      <th>T2_ED_LBP_Radius-1_Bins-20_LBP</th>\n",
       "    </tr>\n",
       "    <tr>\n",
       "      <th>SubjectID</th>\n",
       "      <th></th>\n",
       "      <th></th>\n",
       "      <th></th>\n",
       "      <th></th>\n",
       "      <th></th>\n",
       "      <th></th>\n",
       "      <th></th>\n",
       "      <th></th>\n",
       "      <th></th>\n",
       "      <th></th>\n",
       "      <th></th>\n",
       "      <th></th>\n",
       "      <th></th>\n",
       "      <th></th>\n",
       "      <th></th>\n",
       "      <th></th>\n",
       "      <th></th>\n",
       "      <th></th>\n",
       "      <th></th>\n",
       "      <th></th>\n",
       "      <th></th>\n",
       "    </tr>\n",
       "  </thead>\n",
       "  <tbody>\n",
       "    <tr>\n",
       "      <th>14</th>\n",
       "      <td>0.144956</td>\n",
       "      <td>4.546696e+04</td>\n",
       "      <td>30.747772</td>\n",
       "      <td>0.250000</td>\n",
       "      <td>165.364304</td>\n",
       "      <td>149.990418</td>\n",
       "      <td>0.000000e+00</td>\n",
       "      <td>149.990418</td>\n",
       "      <td>0.000000</td>\n",
       "      <td>134.616531</td>\n",
       "      <td>...</td>\n",
       "      <td>1.000000</td>\n",
       "      <td>2.000000</td>\n",
       "      <td>1.000000</td>\n",
       "      <td>0.000000</td>\n",
       "      <td>0.552632</td>\n",
       "      <td>0.095238</td>\n",
       "      <td>199.500000</td>\n",
       "      <td>947.625000</td>\n",
       "      <td>34.380952</td>\n",
       "      <td>30.064860</td>\n",
       "    </tr>\n",
       "    <tr>\n",
       "      <th>140</th>\n",
       "      <td>0.030319</td>\n",
       "      <td>1.500581e+06</td>\n",
       "      <td>6.000000</td>\n",
       "      <td>2.807781</td>\n",
       "      <td>170.538467</td>\n",
       "      <td>158.073077</td>\n",
       "      <td>-5.684342e-15</td>\n",
       "      <td>157.730774</td>\n",
       "      <td>0.342303</td>\n",
       "      <td>147.692307</td>\n",
       "      <td>...</td>\n",
       "      <td>1.132075</td>\n",
       "      <td>42.169811</td>\n",
       "      <td>0.795657</td>\n",
       "      <td>0.152367</td>\n",
       "      <td>0.253918</td>\n",
       "      <td>0.024048</td>\n",
       "      <td>1523.005645</td>\n",
       "      <td>1.244576</td>\n",
       "      <td>3.517641</td>\n",
       "      <td>863.496703</td>\n",
       "    </tr>\n",
       "    <tr>\n",
       "      <th>258</th>\n",
       "      <td>0.163524</td>\n",
       "      <td>6.730304e+04</td>\n",
       "      <td>18.422050</td>\n",
       "      <td>1.270947</td>\n",
       "      <td>142.205322</td>\n",
       "      <td>114.798476</td>\n",
       "      <td>-5.684342e-15</td>\n",
       "      <td>109.239540</td>\n",
       "      <td>5.558936</td>\n",
       "      <td>93.403038</td>\n",
       "      <td>...</td>\n",
       "      <td>1.250000</td>\n",
       "      <td>2.500000</td>\n",
       "      <td>0.625000</td>\n",
       "      <td>0.187500</td>\n",
       "      <td>0.500000</td>\n",
       "      <td>0.063291</td>\n",
       "      <td>319.466667</td>\n",
       "      <td>67.466667</td>\n",
       "      <td>12.007273</td>\n",
       "      <td>70.456887</td>\n",
       "    </tr>\n",
       "    <tr>\n",
       "      <th>338</th>\n",
       "      <td>0.014886</td>\n",
       "      <td>1.571243e+05</td>\n",
       "      <td>4.467148</td>\n",
       "      <td>1.066010</td>\n",
       "      <td>164.540146</td>\n",
       "      <td>161.810219</td>\n",
       "      <td>0.000000e+00</td>\n",
       "      <td>161.934311</td>\n",
       "      <td>-0.124092</td>\n",
       "      <td>158.583939</td>\n",
       "      <td>...</td>\n",
       "      <td>1.200000</td>\n",
       "      <td>3.400000</td>\n",
       "      <td>0.680000</td>\n",
       "      <td>0.160000</td>\n",
       "      <td>0.380952</td>\n",
       "      <td>0.093750</td>\n",
       "      <td>317.888889</td>\n",
       "      <td>29.948148</td>\n",
       "      <td>14.346154</td>\n",
       "      <td>90.171584</td>\n",
       "    </tr>\n",
       "    <tr>\n",
       "      <th>425</th>\n",
       "      <td>NaN</td>\n",
       "      <td>2.377845e+03</td>\n",
       "      <td>0.000000</td>\n",
       "      <td>NaN</td>\n",
       "      <td>48.763157</td>\n",
       "      <td>48.763157</td>\n",
       "      <td>0.000000e+00</td>\n",
       "      <td>48.763157</td>\n",
       "      <td>0.000000</td>\n",
       "      <td>48.763157</td>\n",
       "      <td>...</td>\n",
       "      <td>1.000000</td>\n",
       "      <td>1.000000</td>\n",
       "      <td>1.000000</td>\n",
       "      <td>0.000000</td>\n",
       "      <td>0.000000</td>\n",
       "      <td>0.050000</td>\n",
       "      <td>0.000000</td>\n",
       "      <td>0.000000</td>\n",
       "      <td>0.000000</td>\n",
       "      <td>15.032430</td>\n",
       "    </tr>\n",
       "    <tr>\n",
       "      <th>444</th>\n",
       "      <td>0.087228</td>\n",
       "      <td>5.655807e+04</td>\n",
       "      <td>7.083336</td>\n",
       "      <td>1.831951</td>\n",
       "      <td>91.901711</td>\n",
       "      <td>79.006412</td>\n",
       "      <td>3.157968e-15</td>\n",
       "      <td>75.918808</td>\n",
       "      <td>3.087604</td>\n",
       "      <td>71.378204</td>\n",
       "      <td>...</td>\n",
       "      <td>1.000000</td>\n",
       "      <td>9.000000</td>\n",
       "      <td>1.000000</td>\n",
       "      <td>0.000000</td>\n",
       "      <td>0.379397</td>\n",
       "      <td>0.059603</td>\n",
       "      <td>456.566667</td>\n",
       "      <td>28.498765</td>\n",
       "      <td>13.892720</td>\n",
       "      <td>135.282465</td>\n",
       "    </tr>\n",
       "    <tr>\n",
       "      <th>1180</th>\n",
       "      <td>NaN</td>\n",
       "      <td>1.272891e+04</td>\n",
       "      <td>0.000000</td>\n",
       "      <td>NaN</td>\n",
       "      <td>112.822472</td>\n",
       "      <td>112.822472</td>\n",
       "      <td>0.000000e+00</td>\n",
       "      <td>112.822472</td>\n",
       "      <td>0.000000</td>\n",
       "      <td>112.822472</td>\n",
       "      <td>...</td>\n",
       "      <td>1.000000</td>\n",
       "      <td>1.000000</td>\n",
       "      <td>1.000000</td>\n",
       "      <td>0.000000</td>\n",
       "      <td>0.000000</td>\n",
       "      <td>0.050000</td>\n",
       "      <td>0.000000</td>\n",
       "      <td>0.000000</td>\n",
       "      <td>0.000000</td>\n",
       "      <td>15.032430</td>\n",
       "    </tr>\n",
       "    <tr>\n",
       "      <th>1344</th>\n",
       "      <td>NaN</td>\n",
       "      <td>3.459157e+04</td>\n",
       "      <td>0.000000</td>\n",
       "      <td>NaN</td>\n",
       "      <td>185.988098</td>\n",
       "      <td>185.988098</td>\n",
       "      <td>0.000000e+00</td>\n",
       "      <td>185.988098</td>\n",
       "      <td>0.000000</td>\n",
       "      <td>185.988098</td>\n",
       "      <td>...</td>\n",
       "      <td>1.000000</td>\n",
       "      <td>1.000000</td>\n",
       "      <td>1.000000</td>\n",
       "      <td>0.000000</td>\n",
       "      <td>0.000000</td>\n",
       "      <td>0.050000</td>\n",
       "      <td>0.000000</td>\n",
       "      <td>0.000000</td>\n",
       "      <td>0.000000</td>\n",
       "      <td>15.032430</td>\n",
       "    </tr>\n",
       "    <tr>\n",
       "      <th>1568</th>\n",
       "      <td>0.106352</td>\n",
       "      <td>2.146930e+05</td>\n",
       "      <td>15.738022</td>\n",
       "      <td>2.803975</td>\n",
       "      <td>199.955627</td>\n",
       "      <td>163.014196</td>\n",
       "      <td>0.000000e+00</td>\n",
       "      <td>160.067993</td>\n",
       "      <td>2.946203</td>\n",
       "      <td>145.281250</td>\n",
       "      <td>...</td>\n",
       "      <td>1.000000</td>\n",
       "      <td>8.000000</td>\n",
       "      <td>1.000000</td>\n",
       "      <td>0.000000</td>\n",
       "      <td>0.309524</td>\n",
       "      <td>0.102564</td>\n",
       "      <td>321.500000</td>\n",
       "      <td>17.375000</td>\n",
       "      <td>15.200000</td>\n",
       "      <td>120.201633</td>\n",
       "    </tr>\n",
       "  </tbody>\n",
       "</table>\n",
       "<p>9 rows × 545 columns</p>\n",
       "</div>"
      ],
      "text/plain": [
       "           FLAIR_ED_Intensity_CoefficientOfVariation  \\\n",
       "SubjectID                                              \n",
       "14                                          0.144956   \n",
       "140                                         0.030319   \n",
       "258                                         0.163524   \n",
       "338                                         0.014886   \n",
       "425                                              NaN   \n",
       "444                                         0.087228   \n",
       "1180                                             NaN   \n",
       "1344                                             NaN   \n",
       "1568                                        0.106352   \n",
       "\n",
       "           FLAIR_ED_Intensity_Energy  FLAIR_ED_Intensity_InterQuartileRange  \\\n",
       "SubjectID                                                                     \n",
       "14                      4.546696e+04                              30.747772   \n",
       "140                     1.500581e+06                               6.000000   \n",
       "258                     6.730304e+04                              18.422050   \n",
       "338                     1.571243e+05                               4.467148   \n",
       "425                     2.377845e+03                               0.000000   \n",
       "444                     5.655807e+04                               7.083336   \n",
       "1180                    1.272891e+04                               0.000000   \n",
       "1344                    3.459157e+04                               0.000000   \n",
       "1568                    2.146930e+05                              15.738022   \n",
       "\n",
       "           FLAIR_ED_Intensity_Kurtosis  FLAIR_ED_Intensity_Maximum  \\\n",
       "SubjectID                                                            \n",
       "14                            0.250000                  165.364304   \n",
       "140                           2.807781                  170.538467   \n",
       "258                           1.270947                  142.205322   \n",
       "338                           1.066010                  164.540146   \n",
       "425                                NaN                   48.763157   \n",
       "444                           1.831951                   91.901711   \n",
       "1180                               NaN                  112.822472   \n",
       "1344                               NaN                  185.988098   \n",
       "1568                          2.803975                  199.955627   \n",
       "\n",
       "           FLAIR_ED_Intensity_Mean  FLAIR_ED_Intensity_MeanAbsoluteDeviation  \\\n",
       "SubjectID                                                                      \n",
       "14                      149.990418                              0.000000e+00   \n",
       "140                     158.073077                             -5.684342e-15   \n",
       "258                     114.798476                             -5.684342e-15   \n",
       "338                     161.810219                              0.000000e+00   \n",
       "425                      48.763157                              0.000000e+00   \n",
       "444                      79.006412                              3.157968e-15   \n",
       "1180                    112.822472                              0.000000e+00   \n",
       "1344                    185.988098                              0.000000e+00   \n",
       "1568                    163.014196                              0.000000e+00   \n",
       "\n",
       "           FLAIR_ED_Intensity_Median  \\\n",
       "SubjectID                              \n",
       "14                        149.990418   \n",
       "140                       157.730774   \n",
       "258                       109.239540   \n",
       "338                       161.934311   \n",
       "425                        48.763157   \n",
       "444                        75.918808   \n",
       "1180                      112.822472   \n",
       "1344                      185.988098   \n",
       "1568                      160.067993   \n",
       "\n",
       "           FLAIR_ED_Intensity_MedianAbsoluteDeviation  \\\n",
       "SubjectID                                               \n",
       "14                                           0.000000   \n",
       "140                                          0.342303   \n",
       "258                                          5.558936   \n",
       "338                                         -0.124092   \n",
       "425                                          0.000000   \n",
       "444                                          3.087604   \n",
       "1180                                         0.000000   \n",
       "1344                                         0.000000   \n",
       "1568                                         2.946203   \n",
       "\n",
       "           FLAIR_ED_Intensity_Minimum  ...  \\\n",
       "SubjectID                              ...   \n",
       "14                         134.616531  ...   \n",
       "140                        147.692307  ...   \n",
       "258                         93.403038  ...   \n",
       "338                        158.583939  ...   \n",
       "425                         48.763157  ...   \n",
       "444                         71.378204  ...   \n",
       "1180                       112.822472  ...   \n",
       "1344                       185.988098  ...   \n",
       "1568                       145.281250  ...   \n",
       "\n",
       "           T2_ED_GLSZM_Bins-20_Radius-1_ZoneSizeMean  \\\n",
       "SubjectID                                              \n",
       "14                                          1.000000   \n",
       "140                                         1.132075   \n",
       "258                                         1.250000   \n",
       "338                                         1.200000   \n",
       "425                                         1.000000   \n",
       "444                                         1.000000   \n",
       "1180                                        1.000000   \n",
       "1344                                        1.000000   \n",
       "1568                                        1.000000   \n",
       "\n",
       "           T2_ED_GLSZM_Bins-20_Radius-1_ZoneSizeNonUniformity  \\\n",
       "SubjectID                                                       \n",
       "14                                                  2.000000    \n",
       "140                                                42.169811    \n",
       "258                                                 2.500000    \n",
       "338                                                 3.400000    \n",
       "425                                                 1.000000    \n",
       "444                                                 9.000000    \n",
       "1180                                                1.000000    \n",
       "1344                                                1.000000    \n",
       "1568                                                8.000000    \n",
       "\n",
       "           T2_ED_GLSZM_Bins-20_Radius-1_ZoneSizeNoneUniformityNormalized  \\\n",
       "SubjectID                                                                  \n",
       "14                                                  1.000000               \n",
       "140                                                 0.795657               \n",
       "258                                                 0.625000               \n",
       "338                                                 0.680000               \n",
       "425                                                 1.000000               \n",
       "444                                                 1.000000               \n",
       "1180                                                1.000000               \n",
       "1344                                                1.000000               \n",
       "1568                                                1.000000               \n",
       "\n",
       "           T2_ED_GLSZM_Bins-20_Radius-1_ZoneSizeVariance  \\\n",
       "SubjectID                                                  \n",
       "14                                              0.000000   \n",
       "140                                             0.152367   \n",
       "258                                             0.187500   \n",
       "338                                             0.160000   \n",
       "425                                             0.000000   \n",
       "444                                             0.000000   \n",
       "1180                                            0.000000   \n",
       "1344                                            0.000000   \n",
       "1568                                            0.000000   \n",
       "\n",
       "           T2_ED_NGTDM_Busyness  T2_ED_NGTDM_Coarsness  \\\n",
       "SubjectID                                                \n",
       "14                     0.552632               0.095238   \n",
       "140                    0.253918               0.024048   \n",
       "258                    0.500000               0.063291   \n",
       "338                    0.380952               0.093750   \n",
       "425                    0.000000               0.050000   \n",
       "444                    0.379397               0.059603   \n",
       "1180                   0.000000               0.050000   \n",
       "1344                   0.000000               0.050000   \n",
       "1568                   0.309524               0.102564   \n",
       "\n",
       "           T2_ED_NGTDM_Complexity  T2_ED_NGTDM_Contrast  T2_ED_NGTDM_Strength  \\\n",
       "SubjectID                                                                       \n",
       "14                     199.500000            947.625000             34.380952   \n",
       "140                   1523.005645              1.244576              3.517641   \n",
       "258                    319.466667             67.466667             12.007273   \n",
       "338                    317.888889             29.948148             14.346154   \n",
       "425                      0.000000              0.000000              0.000000   \n",
       "444                    456.566667             28.498765             13.892720   \n",
       "1180                     0.000000              0.000000              0.000000   \n",
       "1344                     0.000000              0.000000              0.000000   \n",
       "1568                   321.500000             17.375000             15.200000   \n",
       "\n",
       "           T2_ED_LBP_Radius-1_Bins-20_LBP  \n",
       "SubjectID                                  \n",
       "14                              30.064860  \n",
       "140                            863.496703  \n",
       "258                             70.456887  \n",
       "338                             90.171584  \n",
       "425                             15.032430  \n",
       "444                            135.282465  \n",
       "1180                            15.032430  \n",
       "1344                            15.032430  \n",
       "1568                           120.201633  \n",
       "\n",
       "[9 rows x 545 columns]"
      ]
     },
     "execution_count": 174,
     "metadata": {},
     "output_type": "execute_result"
    }
   ],
   "source": [
    "\n",
    "# np.sum(data_numeric['FLAIR_ED_Intensity_CoefficientOfVariation'].astype(float).isnull())\n",
    "data_numeric = data.apply(pd.to_numeric,errors='coerce')\n",
    "data_na = data_numeric[data_numeric.isna().any(axis=1)]\n",
    "\n",
    "# data_na.drop([293,743,904],axis=0)\n",
    "data_na\n",
    "\n",
    "\n",
    "\n"
   ]
  },
  {
   "cell_type": "code",
   "execution_count": 175,
   "metadata": {},
   "outputs": [
    {
     "data": {
      "text/plain": [
       "(1199, 545)"
      ]
     },
     "execution_count": 175,
     "metadata": {},
     "output_type": "execute_result"
    }
   ],
   "source": [
    "data_clean = data_numeric.dropna()\n",
    "data_clean.shape"
   ]
  },
  {
   "cell_type": "code",
   "execution_count": 176,
   "metadata": {},
   "outputs": [
    {
     "data": {
      "text/plain": [
       "(555, 545)"
      ]
     },
     "execution_count": 176,
     "metadata": {},
     "output_type": "execute_result"
    }
   ],
   "source": [
    "indices = np.intersect1d(data_clean.index.values , y.index.values)\n",
    "labeled_data = data_clean.loc[indices]\n",
    "y = y.loc[indices]\n",
    "labeled_data.shape"
   ]
  },
  {
   "cell_type": "code",
   "execution_count": 177,
   "metadata": {},
   "outputs": [
    {
     "data": {
      "text/plain": [
       "(1199, 100)"
      ]
     },
     "execution_count": 177,
     "metadata": {},
     "output_type": "execute_result"
    }
   ],
   "source": [
    "from sklearn.decomposition import PCA\n",
    "pca = PCA(n_components=100)\n",
    "X_pca = pca.fit_transform(data_clean)\n",
    "X_pca.shape"
   ]
  },
  {
   "cell_type": "code",
   "execution_count": 178,
   "metadata": {},
   "outputs": [
    {
     "data": {
      "image/png": "[encoded data removed]",
      "text/plain": [
       "<Figure size 432x288 with 1 Axes>"
      ]
     },
     "metadata": {
      "needs_background": "light"
     },
     "output_type": "display_data"
    }
   ],
   "source": [
    "import matplotlib.pyplot as plt\n",
    "PC_values = np.arange(pca.n_components_) + 1\n",
    "plt.plot(PC_values, pca.explained_variance_ratio_, 'o-', linewidth=2, color='blue')\n",
    "plt.title('Scree Plot')\n",
    "plt.xlabel('Principal Component')\n",
    "plt.ylabel('Variance Explained')\n",
    "plt.show()"
   ]
  },
  {
   "cell_type": "code",
   "execution_count": 179,
   "metadata": {},
   "outputs": [
    {
     "data": {
      "text/plain": [
       "994.8191863714281"
      ]
     },
     "execution_count": 179,
     "metadata": {},
     "output_type": "execute_result"
    }
   ],
   "source": [
    "from sklearn.metrics import mean_squared_error\n",
    "X_pred = pca.inverse_transform(X_pca)\n",
    "mean_squared_error(data_clean,X_pred)"
   ]
  },
  {
   "cell_type": "code",
   "execution_count": 180,
   "metadata": {},
   "outputs": [
    {
     "data": {
      "text/plain": [
       "(1199, 545)"
      ]
     },
     "execution_count": 180,
     "metadata": {},
     "output_type": "execute_result"
    }
   ],
   "source": [
    "data_clean.shape"
   ]
  },
  {
   "cell_type": "code",
   "execution_count": 181,
   "metadata": {},
   "outputs": [
    {
     "data": {
      "text/plain": [
       "(1199, 10)"
      ]
     },
     "execution_count": 181,
     "metadata": {},
     "output_type": "execute_result"
    }
   ],
   "source": [
    "from sklearn.decomposition import KernelPCA\n",
    "kPca = KernelPCA(n_components=10,kernel='poly')\n",
    "X_kpca = kPca.fit_transform(data_clean)\n",
    "X_kpca.shape"
   ]
  },
  {
   "cell_type": "code",
   "execution_count": 182,
   "metadata": {},
   "outputs": [],
   "source": [
    "labeled_pca = pca.transform(labeled_data)\n",
    "labeled_pca = pd.DataFrame(labeled_pca,index=indices)"
   ]
  },
  {
   "cell_type": "code",
   "execution_count": 183,
   "metadata": {},
   "outputs": [
    {
     "data": {
      "text/plain": [
       "(555, 100)"
      ]
     },
     "execution_count": 183,
     "metadata": {},
     "output_type": "execute_result"
    }
   ],
   "source": [
    "labeled_pca.shape"
   ]
  },
  {
   "cell_type": "code",
   "execution_count": 184,
   "metadata": {},
   "outputs": [
    {
     "data": {
      "text/plain": [
       "(1199, 20)"
      ]
     },
     "execution_count": 184,
     "metadata": {},
     "output_type": "execute_result"
    }
   ],
   "source": [
    "from sklearn.decomposition import FactorAnalysis\n",
    "fa = FactorAnalysis(n_components=20)\n",
    "X_fa = fa.fit_transform(data_clean)\n",
    "X_fa.shape"
   ]
  },
  {
   "cell_type": "code",
   "execution_count": 185,
   "metadata": {},
   "outputs": [],
   "source": [
    "labeled_fa = fa.transform(labeled_data)\n",
    "labeled_fa = pd.DataFrame(labeled_fa,index=indices)\n"
   ]
  },
  {
   "cell_type": "code",
   "execution_count": 186,
   "metadata": {},
   "outputs": [
    {
     "data": {
      "text/plain": [
       "(555, 120)"
      ]
     },
     "execution_count": 186,
     "metadata": {},
     "output_type": "execute_result"
    }
   ],
   "source": [
    "labeled_combined = labeled_pca.join(other=labeled_fa,lsuffix='_pca',rsuffix='_fa')\n",
    "labeled_combined.columns = labeled_combined.columns.astype(str)\n",
    "# labeled_combined = pd.DataFrame(labeled_combined)\n",
    "labeled_combined.shape"
   ]
  },
  {
   "cell_type": "code",
   "execution_count": 187,
   "metadata": {},
   "outputs": [
    {
     "data": {
      "text/plain": [
       "(555,)"
      ]
     },
     "execution_count": 187,
     "metadata": {},
     "output_type": "execute_result"
    }
   ],
   "source": [
    "temp = np.ravel(y)\n",
    "temp.shape"
   ]
  },
  {
   "cell_type": "code",
   "execution_count": 188,
   "metadata": {},
   "outputs": [],
   "source": [
    "from sklearn.feature_selection import r_regression\n",
    "pear = r_regression(labeled_pca,temp)\n",
    "pear = pd.DataFrame(pear)\n",
    "pear_clean = pear[~pear.isin([np.nan, np.inf, -np.inf]).any(1)]"
   ]
  },
  {
   "cell_type": "code",
   "execution_count": 189,
   "metadata": {},
   "outputs": [
    {
     "data": {
      "text/html": [
       "<div>\n",
       "<style scoped>\n",
       "    .dataframe tbody tr th:only-of-type {\n",
       "        vertical-align: middle;\n",
       "    }\n",
       "\n",
       "    .dataframe tbody tr th {\n",
       "        vertical-align: top;\n",
       "    }\n",
       "\n",
       "    .dataframe thead th {\n",
       "        text-align: right;\n",
       "    }\n",
       "</style>\n",
       "<table border=\"1\" class=\"dataframe\">\n",
       "  <thead>\n",
       "    <tr style=\"text-align: right;\">\n",
       "      <th></th>\n",
       "      <th>0</th>\n",
       "    </tr>\n",
       "  </thead>\n",
       "  <tbody>\n",
       "    <tr>\n",
       "      <th>count</th>\n",
       "      <td>100.000000</td>\n",
       "    </tr>\n",
       "    <tr>\n",
       "      <th>mean</th>\n",
       "      <td>-0.000260</td>\n",
       "    </tr>\n",
       "    <tr>\n",
       "      <th>std</th>\n",
       "      <td>0.043787</td>\n",
       "    </tr>\n",
       "    <tr>\n",
       "      <th>min</th>\n",
       "      <td>-0.097323</td>\n",
       "    </tr>\n",
       "    <tr>\n",
       "      <th>25%</th>\n",
       "      <td>-0.029685</td>\n",
       "    </tr>\n",
       "    <tr>\n",
       "      <th>50%</th>\n",
       "      <td>0.004053</td>\n",
       "    </tr>\n",
       "    <tr>\n",
       "      <th>75%</th>\n",
       "      <td>0.033419</td>\n",
       "    </tr>\n",
       "    <tr>\n",
       "      <th>max</th>\n",
       "      <td>0.089093</td>\n",
       "    </tr>\n",
       "  </tbody>\n",
       "</table>\n",
       "</div>"
      ],
      "text/plain": [
       "                0\n",
       "count  100.000000\n",
       "mean    -0.000260\n",
       "std      0.043787\n",
       "min     -0.097323\n",
       "25%     -0.029685\n",
       "50%      0.004053\n",
       "75%      0.033419\n",
       "max      0.089093"
      ]
     },
     "execution_count": 189,
     "metadata": {},
     "output_type": "execute_result"
    }
   ],
   "source": [
    "pear_clean.describe()"
   ]
  },
  {
   "cell_type": "code",
   "execution_count": 190,
   "metadata": {},
   "outputs": [
    {
     "data": {
      "text/plain": [
       "RandomForestClassifier()"
      ]
     },
     "execution_count": 190,
     "metadata": {},
     "output_type": "execute_result"
    }
   ],
   "source": [
    "from sklearn.ensemble import RandomForestClassifier\n",
    "rnd_clf = RandomForestClassifier(n_estimators=100)\n",
    "rnd_clf.fit(labeled_combined,temp)"
   ]
  },
  {
   "cell_type": "code",
   "execution_count": 191,
   "metadata": {},
   "outputs": [],
   "source": [
    "feat_importances = pd.Series(rnd_clf.feature_importances_, index=np.arange(labeled_combined.shape[1]))\n",
    "# feat_importances.nlargest(30).plot(kind='barh')\n",
    "plt.show()"
   ]
  },
  {
   "cell_type": "code",
   "execution_count": 192,
   "metadata": {},
   "outputs": [],
   "source": [
    "from sklearn.feature_selection import RFE\n",
    "selector_rfe = RFE(estimator=rnd_clf,n_features_to_select=30,step=1).fit(labeled_combined,temp)"
   ]
  },
  {
   "cell_type": "code",
   "execution_count": 193,
   "metadata": {},
   "outputs": [
    {
     "data": {
      "text/plain": [
       "array([ 21,  73,  68,  65,  78,  60,   1,  56,  53,  52, 119,  80,  45,\n",
       "        44,  87,  29,  28,  27,  26,  25,  74,  99, 118,  97,  95,  20,\n",
       "        14,  98,  91,  13])"
      ]
     },
     "execution_count": 193,
     "metadata": {},
     "output_type": "execute_result"
    }
   ],
   "source": [
    "ranking_rfe = np.argpartition(selector_rfe.ranking_,30)[:30]\n",
    "ranking_rfe"
   ]
  },
  {
   "cell_type": "code",
   "execution_count": 194,
   "metadata": {},
   "outputs": [
    {
     "data": {
      "text/plain": [
       "array([86,  1, 89, 58, 70, 56, 65, 30, 42, 61, 83, 63, 48,  1,  1, 64, 90,\n",
       "       39, 50, 62,  1,  1, 35, 14, 84,  1,  1,  1,  1,  1, 36,  9, 33, 78,\n",
       "       87, 85, 79, 22, 49, 72, 60, 77, 47, 21,  1,  1, 67, 12,  4, 59, 45,\n",
       "       16,  1,  1, 71, 34,  1, 23,  3, 75,  1, 57, 53, 17, 68,  1, 20, 73,\n",
       "        1, 43, 29, 15, 11,  1,  1, 37,  5, 41,  1, 24,  1,  7, 25,  6, 66,\n",
       "       10, 13,  1, 54,  8, 51,  1, 26, 38, 18,  1, 19,  1,  1,  1, 74, 44,\n",
       "       80, 82, 76, 55, 46, 28, 88, 40, 31, 27, 91, 52,  2, 32, 69, 81,  1,\n",
       "        1])"
      ]
     },
     "execution_count": 194,
     "metadata": {},
     "output_type": "execute_result"
    }
   ],
   "source": [
    "selector_rfe.ranking_"
   ]
  },
  {
   "cell_type": "code",
   "execution_count": 195,
   "metadata": {},
   "outputs": [],
   "source": [
    "from sklearn.feature_selection import RFECV\n",
    "\n",
    "selector_rfecv = RFECV(rnd_clf,n_jobs=-1).fit(labeled_combined,temp)"
   ]
  },
  {
   "cell_type": "code",
   "execution_count": 196,
   "metadata": {},
   "outputs": [
    {
     "data": {
      "text/plain": [
       "array([39,  1, 11,  1, 34, 32,  1,  1,  1,  1, 35, 20, 22,  1,  1, 21, 29,\n",
       "        1, 26,  5,  1,  1,  1,  1,  1,  1,  1,  1,  1,  1,  1,  1,  9,  1,\n",
       "        1,  1,  1,  1,  1,  1,  1,  1,  1, 18,  1,  1,  7,  1,  1, 14,  1,\n",
       "        1,  1,  1, 16, 17,  1, 15, 30,  1,  1,  1,  1,  1,  1,  1,  1, 10,\n",
       "        1,  1,  1,  1,  1,  1,  1,  1,  1, 12,  1,  1,  1,  1,  2,  1,  4,\n",
       "        1,  1,  1,  1,  1,  3,  1,  1,  1,  1,  1,  1,  1,  1,  1, 28,  1,\n",
       "       25, 24,  1, 31, 27, 13, 33, 38, 37, 19, 23,  8,  1,  1,  6, 36,  1,\n",
       "        1])"
      ]
     },
     "execution_count": 196,
     "metadata": {},
     "output_type": "execute_result"
    }
   ],
   "source": [
    "selector_rfecv.ranking_"
   ]
  },
  {
   "cell_type": "code",
   "execution_count": 197,
   "metadata": {},
   "outputs": [
    {
     "data": {
      "text/plain": [
       "array([ 79,  80,  52,  53,  56,   1,  60,  61,  62,  63,  64,  65,  66,\n",
       "        68,  69,  70,  71,  72,  73,  74,  75,  76,  78,  50, 101, 104,\n",
       "        97,  98,  99,  95])"
      ]
     },
     "execution_count": 197,
     "metadata": {},
     "output_type": "execute_result"
    }
   ],
   "source": [
    "ranking_rfecv = np.argpartition(selector_rfecv.ranking_,30)[:30]\n",
    "ranking_rfecv"
   ]
  },
  {
   "cell_type": "code",
   "execution_count": 198,
   "metadata": {},
   "outputs": [],
   "source": [
    "from sklearn.feature_selection import SequentialFeatureSelector\n",
    "sfs = SequentialFeatureSelector(rnd_clf,n_features_to_select=30,n_jobs=-1)\n",
    "sfs.fit(labeled_combined,temp)"
   ]
  },
  {
   "cell_type": "code",
   "execution_count": null,
   "metadata": {},
   "outputs": [
    {
     "data": {
      "text/plain": [
       "array([ 13,  14,  18,  19,  21,  28,  29,  32,  36,  44,  45,  49,  54,\n",
       "        58,  71,  75,  76,  88,  94,  95,  98,  99, 100, 103, 105, 106,\n",
       "       108, 111, 114, 118])"
      ]
     },
     "execution_count": 156,
     "metadata": {},
     "output_type": "execute_result"
    }
   ],
   "source": [
    "ranking_sfs = sfs.get_support(indices=True)\n",
    "ranking_sfs"
   ]
  },
  {
   "cell_type": "code",
   "execution_count": null,
   "metadata": {},
   "outputs": [],
   "source": [
    "from sklearn.feature_selection import f_classif\n",
    "anova = f_classif(labeled_combined,temp)"
   ]
  },
  {
   "cell_type": "code",
   "execution_count": null,
   "metadata": {},
   "outputs": [
    {
     "data": {
      "text/plain": [
       "array([ 83,  47, 107,  84,  93,   0,  74,  79,  25,  99,  98, 101, 102,\n",
       "        80,   1,  26,  60,  95,  14,  65,  29,  35,  68,  32, 114, 115,\n",
       "        48,   3,   2, 103])"
      ]
     },
     "execution_count": 158,
     "metadata": {},
     "output_type": "execute_result"
    }
   ],
   "source": [
    "ranking_anova= np.argpartition(anova[0],-30)[-30:]\n",
    "ranking_anova"
   ]
  },
  {
   "cell_type": "code",
   "execution_count": null,
   "metadata": {},
   "outputs": [],
   "source": [
    "from sklearn.feature_selection import mutual_info_classif\n",
    "selector_mutual = mutual_info_classif(labeled_combined,temp)"
   ]
  },
  {
   "cell_type": "code",
   "execution_count": null,
   "metadata": {},
   "outputs": [
    {
     "data": {
      "text/plain": [
       "array([ 69,  61,   6,  13,   1, 109,  26,  97,  98, 113,  81,  56,  33,\n",
       "       118,  76,  51,  95,  54, 100,  72,  92,  85, 112,  64,  66,  34,\n",
       "       116,  67,  20,  70])"
      ]
     },
     "execution_count": 160,
     "metadata": {},
     "output_type": "execute_result"
    }
   ],
   "source": [
    "ranking_mut = np.argpartition(selector_mutual,-30)[-30:]\n",
    "ranking_mut"
   ]
  },
  {
   "cell_type": "code",
   "execution_count": null,
   "metadata": {},
   "outputs": [],
   "source": [
    "intersect = ranking_rfe\n",
    "rankings = [ranking_rfe,ranking_rfecv,ranking_sfs,ranking_anova,ranking_mut]\n",
    "for rank in rankings:\n",
    "    intersect = np.intersect1d(rank,intersect)"
   ]
  },
  {
   "cell_type": "code",
   "execution_count": null,
   "metadata": {},
   "outputs": [
    {
     "data": {
      "text/plain": [
       "array([95, 98])"
      ]
     },
     "execution_count": 162,
     "metadata": {},
     "output_type": "execute_result"
    }
   ],
   "source": [
    "intersect"
   ]
  },
  {
   "cell_type": "code",
   "execution_count": null,
   "metadata": {},
   "outputs": [
    {
     "data": {
      "text/plain": [
       "(array([  0,   1,   2,   3,   6,  13,  14,  18,  19,  20,  21,  24,  25,\n",
       "         26,  27,  28,  29,  32,  33,  34,  35,  36,  44,  45,  47,  48,\n",
       "         49,  51,  52,  53,  54,  56,  58,  60,  61,  64,  65,  66,  67,\n",
       "         68,  69,  70,  71,  72,  73,  74,  75,  76,  79,  80,  81,  82,\n",
       "         83,  84,  85,  87,  88,  89,  92,  93,  94,  95,  97,  98,  99,\n",
       "        100, 101, 102, 103, 105, 106, 107, 108, 109, 111, 112, 113, 114,\n",
       "        115, 116, 118, 119]),\n",
       " array([1, 3, 1, 1, 1, 4, 4, 1, 1, 3, 2, 1, 3, 4, 2, 1, 4, 2, 1, 1, 3, 1,\n",
       "        3, 3, 1, 2, 1, 1, 2, 2, 2, 1, 1, 2, 1, 2, 3, 1, 1, 2, 1, 1, 1, 3,\n",
       "        1, 3, 2, 2, 1, 3, 3, 2, 3, 1, 1, 2, 1, 2, 1, 1, 1, 5, 2, 5, 4, 2,\n",
       "        2, 1, 2, 1, 1, 1, 1, 1, 1, 1, 1, 2, 1, 1, 2, 1]))"
      ]
     },
     "execution_count": 163,
     "metadata": {},
     "output_type": "execute_result"
    }
   ],
   "source": [
    "feat, count = np.unique(rankings,return_counts=True)\n",
    "feat,count"
   ]
  },
  {
   "cell_type": "code",
   "execution_count": null,
   "metadata": {},
   "outputs": [
    {
     "data": {
      "text/plain": [
       "array([[  0,   1],\n",
       "       [  1,   3],\n",
       "       [  2,   1],\n",
       "       [  3,   1],\n",
       "       [  6,   1],\n",
       "       [ 13,   4],\n",
       "       [ 14,   4],\n",
       "       [ 18,   1],\n",
       "       [ 19,   1],\n",
       "       [ 20,   3],\n",
       "       [ 21,   2],\n",
       "       [ 24,   1],\n",
       "       [ 25,   3],\n",
       "       [ 26,   4],\n",
       "       [ 27,   2],\n",
       "       [ 28,   1],\n",
       "       [ 29,   4],\n",
       "       [ 32,   2],\n",
       "       [ 33,   1],\n",
       "       [ 34,   1],\n",
       "       [ 35,   3],\n",
       "       [ 36,   1],\n",
       "       [ 44,   3],\n",
       "       [ 45,   3],\n",
       "       [ 47,   1],\n",
       "       [ 48,   2],\n",
       "       [ 49,   1],\n",
       "       [ 51,   1],\n",
       "       [ 52,   2],\n",
       "       [ 53,   2],\n",
       "       [ 54,   2],\n",
       "       [ 56,   1],\n",
       "       [ 58,   1],\n",
       "       [ 60,   2],\n",
       "       [ 61,   1],\n",
       "       [ 64,   2],\n",
       "       [ 65,   3],\n",
       "       [ 66,   1],\n",
       "       [ 67,   1],\n",
       "       [ 68,   2],\n",
       "       [ 69,   1],\n",
       "       [ 70,   1],\n",
       "       [ 71,   1],\n",
       "       [ 72,   3],\n",
       "       [ 73,   1],\n",
       "       [ 74,   3],\n",
       "       [ 75,   2],\n",
       "       [ 76,   2],\n",
       "       [ 79,   1],\n",
       "       [ 80,   3],\n",
       "       [ 81,   3],\n",
       "       [ 82,   2],\n",
       "       [ 83,   3],\n",
       "       [ 84,   1],\n",
       "       [ 85,   1],\n",
       "       [ 87,   2],\n",
       "       [ 88,   1],\n",
       "       [ 89,   2],\n",
       "       [ 92,   1],\n",
       "       [ 93,   1],\n",
       "       [ 94,   1],\n",
       "       [ 95,   5],\n",
       "       [ 97,   2],\n",
       "       [ 98,   5],\n",
       "       [ 99,   4],\n",
       "       [100,   2],\n",
       "       [101,   2],\n",
       "       [102,   1],\n",
       "       [103,   2],\n",
       "       [105,   1],\n",
       "       [106,   1],\n",
       "       [107,   1],\n",
       "       [108,   1],\n",
       "       [109,   1],\n",
       "       [111,   1],\n",
       "       [112,   1],\n",
       "       [113,   1],\n",
       "       [114,   2],\n",
       "       [115,   1],\n",
       "       [116,   1],\n",
       "       [118,   2],\n",
       "       [119,   1]])"
      ]
     },
     "execution_count": 164,
     "metadata": {},
     "output_type": "execute_result"
    }
   ],
   "source": [
    "freq_array = np.asarray((feat,count)).T\n",
    "freq_array"
   ]
  },
  {
   "cell_type": "code",
   "execution_count": null,
   "metadata": {},
   "outputs": [
    {
     "data": {
      "text/plain": [
       "array([95, 98, 13, 99, 26, 14, 29, 74, 25, 20, 45, 44, 83, 80, 35, 81,  1,\n",
       "       72, 65, 75])"
      ]
     },
     "execution_count": 168,
     "metadata": {},
     "output_type": "execute_result"
    }
   ],
   "source": [
    "sort_freq = freq_array[freq_array[:, 1].argsort()[::-1]]\n",
    "final_features = sort_freq[:20][:,0]\n",
    "final_features"
   ]
  },
  {
   "cell_type": "code",
   "execution_count": null,
   "metadata": {},
   "outputs": [
    {
     "data": {
      "text/html": [
       "<div>\n",
       "<style scoped>\n",
       "    .dataframe tbody tr th:only-of-type {\n",
       "        vertical-align: middle;\n",
       "    }\n",
       "\n",
       "    .dataframe tbody tr th {\n",
       "        vertical-align: top;\n",
       "    }\n",
       "\n",
       "    .dataframe thead th {\n",
       "        text-align: right;\n",
       "    }\n",
       "</style>\n",
       "<table border=\"1\" class=\"dataframe\">\n",
       "  <thead>\n",
       "    <tr style=\"text-align: right;\">\n",
       "      <th></th>\n",
       "      <th>0_pca</th>\n",
       "      <th>1_pca</th>\n",
       "      <th>2_pca</th>\n",
       "      <th>3_pca</th>\n",
       "      <th>4_pca</th>\n",
       "      <th>5_pca</th>\n",
       "      <th>6_pca</th>\n",
       "      <th>7_pca</th>\n",
       "      <th>8_pca</th>\n",
       "      <th>9_pca</th>\n",
       "      <th>...</th>\n",
       "      <th>10_fa</th>\n",
       "      <th>11_fa</th>\n",
       "      <th>12_fa</th>\n",
       "      <th>13_fa</th>\n",
       "      <th>14_fa</th>\n",
       "      <th>15_fa</th>\n",
       "      <th>16_fa</th>\n",
       "      <th>17_fa</th>\n",
       "      <th>18_fa</th>\n",
       "      <th>19_fa</th>\n",
       "    </tr>\n",
       "  </thead>\n",
       "  <tbody>\n",
       "    <tr>\n",
       "      <th>0</th>\n",
       "      <td>-8.506203e+07</td>\n",
       "      <td>-1.642656e+08</td>\n",
       "      <td>-2.124766e+07</td>\n",
       "      <td>-1.516393e+07</td>\n",
       "      <td>-1.025007e+07</td>\n",
       "      <td>-3.062886e+06</td>\n",
       "      <td>-3.281933e+06</td>\n",
       "      <td>5.100273e+05</td>\n",
       "      <td>-4.055506e+05</td>\n",
       "      <td>-5.574672e+04</td>\n",
       "      <td>...</td>\n",
       "      <td>-0.612262</td>\n",
       "      <td>0.216482</td>\n",
       "      <td>-0.138882</td>\n",
       "      <td>-0.176308</td>\n",
       "      <td>-0.701571</td>\n",
       "      <td>-0.085686</td>\n",
       "      <td>0.151488</td>\n",
       "      <td>0.019310</td>\n",
       "      <td>-0.420419</td>\n",
       "      <td>-0.182707</td>\n",
       "    </tr>\n",
       "    <tr>\n",
       "      <th>2</th>\n",
       "      <td>-7.692812e+06</td>\n",
       "      <td>-1.885094e+08</td>\n",
       "      <td>-4.925806e+07</td>\n",
       "      <td>-1.327803e+07</td>\n",
       "      <td>-7.380151e+06</td>\n",
       "      <td>-2.529281e+06</td>\n",
       "      <td>-7.219787e+06</td>\n",
       "      <td>4.088869e+05</td>\n",
       "      <td>-1.548797e+04</td>\n",
       "      <td>6.780401e+05</td>\n",
       "      <td>...</td>\n",
       "      <td>0.871743</td>\n",
       "      <td>-0.744695</td>\n",
       "      <td>-0.502159</td>\n",
       "      <td>-0.118526</td>\n",
       "      <td>-0.161174</td>\n",
       "      <td>1.465606</td>\n",
       "      <td>-0.998582</td>\n",
       "      <td>0.626828</td>\n",
       "      <td>-0.368809</td>\n",
       "      <td>-0.277251</td>\n",
       "    </tr>\n",
       "    <tr>\n",
       "      <th>3</th>\n",
       "      <td>2.678155e+08</td>\n",
       "      <td>-2.947000e+08</td>\n",
       "      <td>-1.126429e+08</td>\n",
       "      <td>-1.442832e+07</td>\n",
       "      <td>1.542603e+05</td>\n",
       "      <td>-1.259507e+07</td>\n",
       "      <td>-5.302600e+06</td>\n",
       "      <td>1.339938e+05</td>\n",
       "      <td>3.440698e+05</td>\n",
       "      <td>-2.951149e+05</td>\n",
       "      <td>...</td>\n",
       "      <td>-0.646027</td>\n",
       "      <td>-0.388548</td>\n",
       "      <td>-0.464059</td>\n",
       "      <td>0.132873</td>\n",
       "      <td>-0.834913</td>\n",
       "      <td>0.795587</td>\n",
       "      <td>-0.511371</td>\n",
       "      <td>-0.272675</td>\n",
       "      <td>-0.350974</td>\n",
       "      <td>-0.542322</td>\n",
       "    </tr>\n",
       "    <tr>\n",
       "      <th>5</th>\n",
       "      <td>7.524405e+08</td>\n",
       "      <td>-5.820749e+06</td>\n",
       "      <td>-1.576167e+08</td>\n",
       "      <td>-2.997054e+07</td>\n",
       "      <td>-1.051068e+07</td>\n",
       "      <td>4.337707e+06</td>\n",
       "      <td>-1.713572e+06</td>\n",
       "      <td>-5.013792e+05</td>\n",
       "      <td>1.326157e+06</td>\n",
       "      <td>-2.164233e+06</td>\n",
       "      <td>...</td>\n",
       "      <td>-1.187536</td>\n",
       "      <td>0.853703</td>\n",
       "      <td>-0.786992</td>\n",
       "      <td>1.636747</td>\n",
       "      <td>1.153656</td>\n",
       "      <td>2.724628</td>\n",
       "      <td>0.119753</td>\n",
       "      <td>-0.359019</td>\n",
       "      <td>-1.047772</td>\n",
       "      <td>5.186829</td>\n",
       "    </tr>\n",
       "    <tr>\n",
       "      <th>6</th>\n",
       "      <td>1.841889e+09</td>\n",
       "      <td>-5.051876e+08</td>\n",
       "      <td>-9.915082e+07</td>\n",
       "      <td>-4.167806e+07</td>\n",
       "      <td>-4.310442e+07</td>\n",
       "      <td>2.358284e+07</td>\n",
       "      <td>5.909868e+07</td>\n",
       "      <td>-3.748935e+06</td>\n",
       "      <td>-1.064539e+05</td>\n",
       "      <td>-1.935440e+06</td>\n",
       "      <td>...</td>\n",
       "      <td>-1.583372</td>\n",
       "      <td>-1.208105</td>\n",
       "      <td>0.320217</td>\n",
       "      <td>0.604029</td>\n",
       "      <td>-1.940073</td>\n",
       "      <td>0.225540</td>\n",
       "      <td>-0.449621</td>\n",
       "      <td>2.058586</td>\n",
       "      <td>-0.592966</td>\n",
       "      <td>0.621984</td>\n",
       "    </tr>\n",
       "    <tr>\n",
       "      <th>...</th>\n",
       "      <td>...</td>\n",
       "      <td>...</td>\n",
       "      <td>...</td>\n",
       "      <td>...</td>\n",
       "      <td>...</td>\n",
       "      <td>...</td>\n",
       "      <td>...</td>\n",
       "      <td>...</td>\n",
       "      <td>...</td>\n",
       "      <td>...</td>\n",
       "      <td>...</td>\n",
       "      <td>...</td>\n",
       "      <td>...</td>\n",
       "      <td>...</td>\n",
       "      <td>...</td>\n",
       "      <td>...</td>\n",
       "      <td>...</td>\n",
       "      <td>...</td>\n",
       "      <td>...</td>\n",
       "      <td>...</td>\n",
       "      <td>...</td>\n",
       "    </tr>\n",
       "    <tr>\n",
       "      <th>1005</th>\n",
       "      <td>-6.812900e+08</td>\n",
       "      <td>1.907166e+07</td>\n",
       "      <td>3.105493e+06</td>\n",
       "      <td>1.490384e+07</td>\n",
       "      <td>8.706529e+06</td>\n",
       "      <td>-1.038744e+05</td>\n",
       "      <td>-3.237581e+06</td>\n",
       "      <td>-5.238958e+05</td>\n",
       "      <td>-7.453645e+04</td>\n",
       "      <td>7.194676e+05</td>\n",
       "      <td>...</td>\n",
       "      <td>0.865916</td>\n",
       "      <td>-0.195982</td>\n",
       "      <td>0.108929</td>\n",
       "      <td>-0.386578</td>\n",
       "      <td>0.699614</td>\n",
       "      <td>0.227721</td>\n",
       "      <td>-0.275503</td>\n",
       "      <td>0.145151</td>\n",
       "      <td>-0.722456</td>\n",
       "      <td>-0.097781</td>\n",
       "    </tr>\n",
       "    <tr>\n",
       "      <th>1007</th>\n",
       "      <td>-4.629018e+07</td>\n",
       "      <td>-2.345749e+07</td>\n",
       "      <td>2.508646e+07</td>\n",
       "      <td>-5.083799e+06</td>\n",
       "      <td>1.166242e+07</td>\n",
       "      <td>-7.162299e+06</td>\n",
       "      <td>4.181757e+05</td>\n",
       "      <td>-1.125166e+06</td>\n",
       "      <td>-8.540356e+05</td>\n",
       "      <td>-5.784066e+04</td>\n",
       "      <td>...</td>\n",
       "      <td>0.095720</td>\n",
       "      <td>-0.291508</td>\n",
       "      <td>0.023626</td>\n",
       "      <td>-0.215328</td>\n",
       "      <td>0.083972</td>\n",
       "      <td>-0.216776</td>\n",
       "      <td>0.188353</td>\n",
       "      <td>0.263739</td>\n",
       "      <td>-0.324159</td>\n",
       "      <td>-0.428315</td>\n",
       "    </tr>\n",
       "    <tr>\n",
       "      <th>1008</th>\n",
       "      <td>-9.581541e+08</td>\n",
       "      <td>-1.570254e+07</td>\n",
       "      <td>-4.948755e+06</td>\n",
       "      <td>1.707869e+07</td>\n",
       "      <td>-4.339612e+06</td>\n",
       "      <td>3.264582e+06</td>\n",
       "      <td>7.795172e+05</td>\n",
       "      <td>-2.635684e+05</td>\n",
       "      <td>-5.142584e+05</td>\n",
       "      <td>2.503140e+04</td>\n",
       "      <td>...</td>\n",
       "      <td>-0.046974</td>\n",
       "      <td>0.017552</td>\n",
       "      <td>-0.017269</td>\n",
       "      <td>0.128027</td>\n",
       "      <td>-0.071856</td>\n",
       "      <td>0.004470</td>\n",
       "      <td>-0.036286</td>\n",
       "      <td>-0.003193</td>\n",
       "      <td>-0.158769</td>\n",
       "      <td>0.416665</td>\n",
       "    </tr>\n",
       "    <tr>\n",
       "      <th>1009</th>\n",
       "      <td>-3.116108e+08</td>\n",
       "      <td>1.028817e+07</td>\n",
       "      <td>4.604474e+07</td>\n",
       "      <td>-3.442275e+06</td>\n",
       "      <td>7.970484e+05</td>\n",
       "      <td>-1.144992e+05</td>\n",
       "      <td>1.641268e+06</td>\n",
       "      <td>-2.608463e+05</td>\n",
       "      <td>-7.935704e+05</td>\n",
       "      <td>-7.975836e+04</td>\n",
       "      <td>...</td>\n",
       "      <td>-0.189641</td>\n",
       "      <td>-0.186338</td>\n",
       "      <td>0.054453</td>\n",
       "      <td>0.080506</td>\n",
       "      <td>0.234165</td>\n",
       "      <td>-0.152924</td>\n",
       "      <td>0.264231</td>\n",
       "      <td>-0.102989</td>\n",
       "      <td>-0.437089</td>\n",
       "      <td>0.115913</td>\n",
       "    </tr>\n",
       "    <tr>\n",
       "      <th>1010</th>\n",
       "      <td>-3.638858e+08</td>\n",
       "      <td>1.286225e+08</td>\n",
       "      <td>8.410367e+06</td>\n",
       "      <td>-1.097632e+07</td>\n",
       "      <td>-1.338580e+06</td>\n",
       "      <td>1.046257e+07</td>\n",
       "      <td>-2.479258e+06</td>\n",
       "      <td>2.672886e+05</td>\n",
       "      <td>2.381431e+04</td>\n",
       "      <td>-1.957578e+05</td>\n",
       "      <td>...</td>\n",
       "      <td>0.050094</td>\n",
       "      <td>-0.291646</td>\n",
       "      <td>0.444415</td>\n",
       "      <td>0.086057</td>\n",
       "      <td>0.001039</td>\n",
       "      <td>-0.165458</td>\n",
       "      <td>0.106612</td>\n",
       "      <td>-0.235867</td>\n",
       "      <td>-0.429516</td>\n",
       "      <td>0.200602</td>\n",
       "    </tr>\n",
       "  </tbody>\n",
       "</table>\n",
       "<p>555 rows × 120 columns</p>\n",
       "</div>"
      ],
      "text/plain": [
       "             0_pca         1_pca         2_pca         3_pca         4_pca  \\\n",
       "0    -8.506203e+07 -1.642656e+08 -2.124766e+07 -1.516393e+07 -1.025007e+07   \n",
       "2    -7.692812e+06 -1.885094e+08 -4.925806e+07 -1.327803e+07 -7.380151e+06   \n",
       "3     2.678155e+08 -2.947000e+08 -1.126429e+08 -1.442832e+07  1.542603e+05   \n",
       "5     7.524405e+08 -5.820749e+06 -1.576167e+08 -2.997054e+07 -1.051068e+07   \n",
       "6     1.841889e+09 -5.051876e+08 -9.915082e+07 -4.167806e+07 -4.310442e+07   \n",
       "...            ...           ...           ...           ...           ...   \n",
       "1005 -6.812900e+08  1.907166e+07  3.105493e+06  1.490384e+07  8.706529e+06   \n",
       "1007 -4.629018e+07 -2.345749e+07  2.508646e+07 -5.083799e+06  1.166242e+07   \n",
       "1008 -9.581541e+08 -1.570254e+07 -4.948755e+06  1.707869e+07 -4.339612e+06   \n",
       "1009 -3.116108e+08  1.028817e+07  4.604474e+07 -3.442275e+06  7.970484e+05   \n",
       "1010 -3.638858e+08  1.286225e+08  8.410367e+06 -1.097632e+07 -1.338580e+06   \n",
       "\n",
       "             5_pca         6_pca         7_pca         8_pca         9_pca  \\\n",
       "0    -3.062886e+06 -3.281933e+06  5.100273e+05 -4.055506e+05 -5.574672e+04   \n",
       "2    -2.529281e+06 -7.219787e+06  4.088869e+05 -1.548797e+04  6.780401e+05   \n",
       "3    -1.259507e+07 -5.302600e+06  1.339938e+05  3.440698e+05 -2.951149e+05   \n",
       "5     4.337707e+06 -1.713572e+06 -5.013792e+05  1.326157e+06 -2.164233e+06   \n",
       "6     2.358284e+07  5.909868e+07 -3.748935e+06 -1.064539e+05 -1.935440e+06   \n",
       "...            ...           ...           ...           ...           ...   \n",
       "1005 -1.038744e+05 -3.237581e+06 -5.238958e+05 -7.453645e+04  7.194676e+05   \n",
       "1007 -7.162299e+06  4.181757e+05 -1.125166e+06 -8.540356e+05 -5.784066e+04   \n",
       "1008  3.264582e+06  7.795172e+05 -2.635684e+05 -5.142584e+05  2.503140e+04   \n",
       "1009 -1.144992e+05  1.641268e+06 -2.608463e+05 -7.935704e+05 -7.975836e+04   \n",
       "1010  1.046257e+07 -2.479258e+06  2.672886e+05  2.381431e+04 -1.957578e+05   \n",
       "\n",
       "      ...     10_fa     11_fa     12_fa     13_fa     14_fa     15_fa  \\\n",
       "0     ... -0.612262  0.216482 -0.138882 -0.176308 -0.701571 -0.085686   \n",
       "2     ...  0.871743 -0.744695 -0.502159 -0.118526 -0.161174  1.465606   \n",
       "3     ... -0.646027 -0.388548 -0.464059  0.132873 -0.834913  0.795587   \n",
       "5     ... -1.187536  0.853703 -0.786992  1.636747  1.153656  2.724628   \n",
       "6     ... -1.583372 -1.208105  0.320217  0.604029 -1.940073  0.225540   \n",
       "...   ...       ...       ...       ...       ...       ...       ...   \n",
       "1005  ...  0.865916 -0.195982  0.108929 -0.386578  0.699614  0.227721   \n",
       "1007  ...  0.095720 -0.291508  0.023626 -0.215328  0.083972 -0.216776   \n",
       "1008  ... -0.046974  0.017552 -0.017269  0.128027 -0.071856  0.004470   \n",
       "1009  ... -0.189641 -0.186338  0.054453  0.080506  0.234165 -0.152924   \n",
       "1010  ...  0.050094 -0.291646  0.444415  0.086057  0.001039 -0.165458   \n",
       "\n",
       "         16_fa     17_fa     18_fa     19_fa  \n",
       "0     0.151488  0.019310 -0.420419 -0.182707  \n",
       "2    -0.998582  0.626828 -0.368809 -0.277251  \n",
       "3    -0.511371 -0.272675 -0.350974 -0.542322  \n",
       "5     0.119753 -0.359019 -1.047772  5.186829  \n",
       "6    -0.449621  2.058586 -0.592966  0.621984  \n",
       "...        ...       ...       ...       ...  \n",
       "1005 -0.275503  0.145151 -0.722456 -0.097781  \n",
       "1007  0.188353  0.263739 -0.324159 -0.428315  \n",
       "1008 -0.036286 -0.003193 -0.158769  0.416665  \n",
       "1009  0.264231 -0.102989 -0.437089  0.115913  \n",
       "1010  0.106612 -0.235867 -0.429516  0.200602  \n",
       "\n",
       "[555 rows x 120 columns]"
      ]
     },
     "execution_count": 166,
     "metadata": {},
     "output_type": "execute_result"
    }
   ],
   "source": [
    "labeled_combined"
   ]
  },
  {
   "cell_type": "code",
   "execution_count": null,
   "metadata": {},
   "outputs": [
    {
     "data": {
      "text/html": [
       "<div>\n",
       "<style scoped>\n",
       "    .dataframe tbody tr th:only-of-type {\n",
       "        vertical-align: middle;\n",
       "    }\n",
       "\n",
       "    .dataframe tbody tr th {\n",
       "        vertical-align: top;\n",
       "    }\n",
       "\n",
       "    .dataframe thead th {\n",
       "        text-align: right;\n",
       "    }\n",
       "</style>\n",
       "<table border=\"1\" class=\"dataframe\">\n",
       "  <thead>\n",
       "    <tr style=\"text-align: right;\">\n",
       "      <th></th>\n",
       "      <th>95</th>\n",
       "      <th>98</th>\n",
       "      <th>13_pca</th>\n",
       "      <th>99</th>\n",
       "      <th>26</th>\n",
       "      <th>14_pca</th>\n",
       "      <th>29</th>\n",
       "      <th>74</th>\n",
       "      <th>25</th>\n",
       "      <th>20</th>\n",
       "      <th>45</th>\n",
       "      <th>44</th>\n",
       "      <th>83</th>\n",
       "      <th>80</th>\n",
       "      <th>35</th>\n",
       "      <th>81</th>\n",
       "      <th>1_pca</th>\n",
       "      <th>72</th>\n",
       "      <th>65</th>\n",
       "      <th>75</th>\n",
       "    </tr>\n",
       "  </thead>\n",
       "  <tbody>\n",
       "    <tr>\n",
       "      <th>0</th>\n",
       "      <td>-255.420130</td>\n",
       "      <td>144.663200</td>\n",
       "      <td>4825.086600</td>\n",
       "      <td>-19.277827</td>\n",
       "      <td>3092.044888</td>\n",
       "      <td>-89961.381625</td>\n",
       "      <td>-983.895802</td>\n",
       "      <td>6.659341</td>\n",
       "      <td>-25308.919005</td>\n",
       "      <td>19173.492616</td>\n",
       "      <td>-1807.215352</td>\n",
       "      <td>-1271.207623</td>\n",
       "      <td>102.417978</td>\n",
       "      <td>-64.650687</td>\n",
       "      <td>-1974.229165</td>\n",
       "      <td>-102.409113</td>\n",
       "      <td>-1.642656e+08</td>\n",
       "      <td>-305.269507</td>\n",
       "      <td>109.937539</td>\n",
       "      <td>-568.295252</td>\n",
       "    </tr>\n",
       "    <tr>\n",
       "      <th>2</th>\n",
       "      <td>-514.567024</td>\n",
       "      <td>-220.288160</td>\n",
       "      <td>-5418.507205</td>\n",
       "      <td>-261.553322</td>\n",
       "      <td>55228.566134</td>\n",
       "      <td>-84042.035557</td>\n",
       "      <td>3090.433378</td>\n",
       "      <td>-504.804531</td>\n",
       "      <td>-22704.272327</td>\n",
       "      <td>-21046.221482</td>\n",
       "      <td>1205.303070</td>\n",
       "      <td>-1759.969911</td>\n",
       "      <td>112.163312</td>\n",
       "      <td>-564.890690</td>\n",
       "      <td>-10337.102356</td>\n",
       "      <td>-120.203962</td>\n",
       "      <td>-1.885094e+08</td>\n",
       "      <td>248.226919</td>\n",
       "      <td>-999.605389</td>\n",
       "      <td>-263.862968</td>\n",
       "    </tr>\n",
       "    <tr>\n",
       "      <th>3</th>\n",
       "      <td>108.191666</td>\n",
       "      <td>154.462961</td>\n",
       "      <td>72453.355111</td>\n",
       "      <td>15.738291</td>\n",
       "      <td>9752.151900</td>\n",
       "      <td>-142267.774077</td>\n",
       "      <td>-12204.786543</td>\n",
       "      <td>-395.202993</td>\n",
       "      <td>-14195.051220</td>\n",
       "      <td>40974.769082</td>\n",
       "      <td>-1072.398721</td>\n",
       "      <td>-934.107379</td>\n",
       "      <td>-0.807152</td>\n",
       "      <td>-41.330871</td>\n",
       "      <td>-3422.346499</td>\n",
       "      <td>688.567490</td>\n",
       "      <td>-2.947000e+08</td>\n",
       "      <td>489.677606</td>\n",
       "      <td>125.784118</td>\n",
       "      <td>-375.817895</td>\n",
       "    </tr>\n",
       "    <tr>\n",
       "      <th>5</th>\n",
       "      <td>-809.595747</td>\n",
       "      <td>488.266218</td>\n",
       "      <td>157272.811573</td>\n",
       "      <td>276.571799</td>\n",
       "      <td>984.686651</td>\n",
       "      <td>213097.231290</td>\n",
       "      <td>-24774.751241</td>\n",
       "      <td>-426.919780</td>\n",
       "      <td>-29676.494020</td>\n",
       "      <td>-99716.828906</td>\n",
       "      <td>-625.136424</td>\n",
       "      <td>-840.963545</td>\n",
       "      <td>803.874476</td>\n",
       "      <td>120.274964</td>\n",
       "      <td>-17254.624701</td>\n",
       "      <td>1508.024324</td>\n",
       "      <td>-5.820749e+06</td>\n",
       "      <td>1376.381095</td>\n",
       "      <td>2979.426793</td>\n",
       "      <td>-1444.396315</td>\n",
       "    </tr>\n",
       "    <tr>\n",
       "      <th>6</th>\n",
       "      <td>-53.620813</td>\n",
       "      <td>-306.918230</td>\n",
       "      <td>138654.640305</td>\n",
       "      <td>161.679681</td>\n",
       "      <td>-13162.842636</td>\n",
       "      <td>-133114.112442</td>\n",
       "      <td>-12298.610161</td>\n",
       "      <td>-496.648834</td>\n",
       "      <td>-5981.016899</td>\n",
       "      <td>32411.009637</td>\n",
       "      <td>-1824.846265</td>\n",
       "      <td>-1345.979361</td>\n",
       "      <td>56.503937</td>\n",
       "      <td>36.912764</td>\n",
       "      <td>1822.655578</td>\n",
       "      <td>291.497495</td>\n",
       "      <td>-5.051876e+08</td>\n",
       "      <td>-119.296194</td>\n",
       "      <td>-665.111755</td>\n",
       "      <td>167.478261</td>\n",
       "    </tr>\n",
       "  </tbody>\n",
       "</table>\n",
       "</div>"
      ],
      "text/plain": [
       "           95          98         13_pca          99            26  \\\n",
       "0 -255.420130  144.663200    4825.086600  -19.277827   3092.044888   \n",
       "2 -514.567024 -220.288160   -5418.507205 -261.553322  55228.566134   \n",
       "3  108.191666  154.462961   72453.355111   15.738291   9752.151900   \n",
       "5 -809.595747  488.266218  157272.811573  276.571799    984.686651   \n",
       "6  -53.620813 -306.918230  138654.640305  161.679681 -13162.842636   \n",
       "\n",
       "          14_pca            29          74            25            20  \\\n",
       "0  -89961.381625   -983.895802    6.659341 -25308.919005  19173.492616   \n",
       "2  -84042.035557   3090.433378 -504.804531 -22704.272327 -21046.221482   \n",
       "3 -142267.774077 -12204.786543 -395.202993 -14195.051220  40974.769082   \n",
       "5  213097.231290 -24774.751241 -426.919780 -29676.494020 -99716.828906   \n",
       "6 -133114.112442 -12298.610161 -496.648834  -5981.016899  32411.009637   \n",
       "\n",
       "            45           44          83          80            35  \\\n",
       "0 -1807.215352 -1271.207623  102.417978  -64.650687  -1974.229165   \n",
       "2  1205.303070 -1759.969911  112.163312 -564.890690 -10337.102356   \n",
       "3 -1072.398721  -934.107379   -0.807152  -41.330871  -3422.346499   \n",
       "5  -625.136424  -840.963545  803.874476  120.274964 -17254.624701   \n",
       "6 -1824.846265 -1345.979361   56.503937   36.912764   1822.655578   \n",
       "\n",
       "            81         1_pca           72           65           75  \n",
       "0  -102.409113 -1.642656e+08  -305.269507   109.937539  -568.295252  \n",
       "2  -120.203962 -1.885094e+08   248.226919  -999.605389  -263.862968  \n",
       "3   688.567490 -2.947000e+08   489.677606   125.784118  -375.817895  \n",
       "5  1508.024324 -5.820749e+06  1376.381095  2979.426793 -1444.396315  \n",
       "6   291.497495 -5.051876e+08  -119.296194  -665.111755   167.478261  "
      ]
     },
     "execution_count": 169,
     "metadata": {},
     "output_type": "execute_result"
    }
   ],
   "source": [
    "train_out = labeled_combined.iloc[:,final_features]\n",
    "train_out.head()"
   ]
  },
  {
   "cell_type": "code",
   "execution_count": null,
   "metadata": {},
   "outputs": [
    {
     "data": {
      "text/plain": [
       "(555, 20)"
      ]
     },
     "execution_count": 170,
     "metadata": {},
     "output_type": "execute_result"
    }
   ],
   "source": [
    "train_out.shape"
   ]
  },
  {
   "cell_type": "code",
   "execution_count": null,
   "metadata": {},
   "outputs": [],
   "source": []
  }
 ],
 "metadata": {
  "interpreter": {
   "hash": "a6881bd14d3370ea85f18b703f3f2a6f188b617e6c72cc1a657dd549e4c4e9a1"
  },
  "kernelspec": {
   "display_name": "Python 3.8.12 ('rapids-22.02')",
   "language": "python",
   "name": "python3"
  },
  "language_info": {
   "codemirror_mode": {
    "name": "ipython",
    "version": 3
   },
   "file_extension": ".py",
   "mimetype": "text/x-python",
   "name": "python",
   "nbconvert_exporter": "python",
   "pygments_lexer": "ipython3",
   "version": "3.9.12"
  },
  "orig_nbformat": 4
 },
 "nbformat": 4,
 "nbformat_minor": 2
}
